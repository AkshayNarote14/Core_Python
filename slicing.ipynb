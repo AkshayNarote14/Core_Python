{
 "cells": [
  {
   "cell_type": "code",
   "execution_count": 11,
   "id": "8563fa29",
   "metadata": {},
   "outputs": [
    {
     "name": "stdout",
     "output_type": "stream",
     "text": [
      "x: [22, 3.3, 4, 'srk']\n",
      "[22, 3.3, 4, 'srk'] ['srk'] [1, 22, 3.3, 4, 'srk']\n",
      "[1, 22, 3.3, 4] [4, 'srk', 'nit', 87, 98] [1, 22, 3.3, 4, 'srk', 'nit', 87, 98]\n",
      "[22, 3.3, 4, 'srk', 'nit', 87] [4, 'srk', 'nit'] [3.3, 4, 'srk', 'nit'] [4, 'srk', 'nit', 87, 98]\n",
      "[22, 3.3, 4, 'srk', 'nit'] [22, 4, 'nit'] [1, 4, 87] [3.3, 'srk'] [22, 'srk'] [] []\n",
      "[98, 87, 'nit', 'srk', 4, 3.3] [87, 'srk', 3.3] [] [98, 'srk']\n"
     ]
    }
   ],
   "source": [
    "a = [1,22,3.3,4,\"srk\",\"nit\",87,98]\n",
    "x = a[1:5]\n",
    "print(\"x:\",x)\n",
    "\n",
    "print(a[1:5],a[4:5],a[0:5])\n",
    "print(a[:4],a[3:],a[:])\n",
    "print(a[1:-1],a[3:-2],a[-6:6],a[-5:])\n",
    "print(a[1:6:1],a[1:6:2],a[0::3],a[-6:5:2],a[-7:-1:3],a[-1:3:1],a[-12:-9:2])\n",
    "print(a[-1:1:-1],a[-2:0:-2],a[1:6:-1],a[7:1:-3])"
   ]
  },
  {
   "cell_type": "code",
   "execution_count": null,
   "id": "e7c07092",
   "metadata": {},
   "outputs": [],
   "source": []
  }
 ],
 "metadata": {
  "kernelspec": {
   "display_name": "Python 3 (ipykernel)",
   "language": "python",
   "name": "python3"
  },
  "language_info": {
   "codemirror_mode": {
    "name": "ipython",
    "version": 3
   },
   "file_extension": ".py",
   "mimetype": "text/x-python",
   "name": "python",
   "nbconvert_exporter": "python",
   "pygments_lexer": "ipython3",
   "version": "3.11.5"
  }
 },
 "nbformat": 4,
 "nbformat_minor": 5
}
