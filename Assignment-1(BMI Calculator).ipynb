{
 "cells": [
  {
   "cell_type": "code",
   "execution_count": 7,
   "id": "0ea50ad9",
   "metadata": {},
   "outputs": [
    {
     "name": "stdout",
     "output_type": "stream",
     "text": [
      "Enter your weight in kgs : 80\n",
      "Select your choice to enter the height 1.Feet 2.Meter : 1\n",
      "Enter your height in feet only : 5\n",
      "Enter your height in inches : 10\n",
      "Your BMI is:  26.122448979591837\n",
      "You are Overweight...\n"
     ]
    }
   ],
   "source": [
    "wt = eval(input(\"Enter your weight in kgs : \"))\n",
    "\n",
    "i = eval(input(\"Select your choice to enter the height 1.Feet 2.Meter : \"))\n",
    "\n",
    "if i == 1:\n",
    "        f = eval(input(\"Enter your height in feet only : \"))\n",
    "        e = eval(input(\"Enter your height in inches : \"))\n",
    "    \n",
    "        f = (f*30)/100\n",
    "        e = (e*2.5)/100\n",
    "        h = f+e\n",
    "\n",
    "elif i == 2:\n",
    "        m = eval(input(\"Enter your height in meter : \"))\n",
    "        h = m\n",
    "    \n",
    "else:\n",
    "        print(\"Enter a valid choice...\")\n",
    "        \n",
    "BMI = wt/h**2\n",
    "print(\"Your BMI is: \",BMI)\n",
    "\n",
    "if BMI < 18.5:\n",
    "    print(\"You are Underweight...\")\n",
    "\n",
    "elif (BMI >= 18.5) and (BMI < 25.0):\n",
    "    print(\"You are Normal...\")\n",
    "    \n",
    "elif (BMI >= 25.0) and (BMI < 30.0):\n",
    "    print(\"You are Overweight...\")\n",
    "    \n",
    "else:\n",
    "    print(\"You are very Overweight...\")"
   ]
  },
  {
   "cell_type": "code",
   "execution_count": null,
   "id": "0981e31a",
   "metadata": {},
   "outputs": [],
   "source": []
  }
 ],
 "metadata": {
  "kernelspec": {
   "display_name": "Python 3 (ipykernel)",
   "language": "python",
   "name": "python3"
  },
  "language_info": {
   "codemirror_mode": {
    "name": "ipython",
    "version": 3
   },
   "file_extension": ".py",
   "mimetype": "text/x-python",
   "name": "python",
   "nbconvert_exporter": "python",
   "pygments_lexer": "ipython3",
   "version": "3.11.5"
  }
 },
 "nbformat": 4,
 "nbformat_minor": 5
}
