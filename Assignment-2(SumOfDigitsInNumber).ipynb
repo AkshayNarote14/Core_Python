{
 "cells": [
  {
   "cell_type": "code",
   "execution_count": 3,
   "id": "69c86776",
   "metadata": {},
   "outputs": [
    {
     "name": "stdout",
     "output_type": "stream",
     "text": [
      "Enter your Mobile Number: 123456789123\n",
      "sum of digits in num is:51\n"
     ]
    }
   ],
   "source": [
    "num = int(input(\"Enter your Mobile Number: \"))\n",
    "n = 0\n",
    "while num>0:\n",
    "    n = n + int(num%10)\n",
    "    num = num//10\n",
    "print(f\"sum of digits in num is:{n}\")"
   ]
  },
  {
   "cell_type": "code",
   "execution_count": null,
   "id": "79c7c60f",
   "metadata": {},
   "outputs": [],
   "source": [
    "num = int(input(\"Enter your mobile number upto 10 digits:\"))\n",
    "n=0\n",
    "    \n",
    "if num>0:\n",
    "        for i in range(1,11):\n",
    "            n = n + int(num%10)\n",
    "            num = num/10\n",
    "        print(f\"sum of digits in num is : {n}\")\n",
    "else:\n",
    "        print(\"Invalid number...\")"
   ]
  },
  {
   "cell_type": "markdown",
   "id": "bf4fba33",
   "metadata": {},
   "source": [
    "###### "
   ]
  },
  {
   "cell_type": "code",
   "execution_count": null,
   "id": "2fabf03b",
   "metadata": {},
   "outputs": [],
   "source": []
  }
 ],
 "metadata": {
  "kernelspec": {
   "display_name": "Python 3 (ipykernel)",
   "language": "python",
   "name": "python3"
  },
  "language_info": {
   "codemirror_mode": {
    "name": "ipython",
    "version": 3
   },
   "file_extension": ".py",
   "mimetype": "text/x-python",
   "name": "python",
   "nbconvert_exporter": "python",
   "pygments_lexer": "ipython3",
   "version": "3.11.5"
  }
 },
 "nbformat": 4,
 "nbformat_minor": 5
}
