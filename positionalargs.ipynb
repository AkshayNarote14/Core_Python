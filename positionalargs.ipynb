{
 "cells": [
  {
   "cell_type": "code",
   "execution_count": 3,
   "id": "ed95fc6b",
   "metadata": {},
   "outputs": [
    {
     "name": "stdout",
     "output_type": "stream",
     "text": [
      "Student No: 11\n",
      "Student Name:ram\n",
      "Marks:78\n"
     ]
    }
   ],
   "source": [
    "# example on positional arguments\n",
    "\n",
    "def diplay(sno,sname,marks):\n",
    "    print(\"Student No:\",sno)\n",
    "    print(\"Student Name:{}\".format(sname))\n",
    "    print(f\"Marks:{marks}\")\n",
    "    \n",
    "diplay(11,\"ram\",78)"
   ]
  },
  {
   "cell_type": "code",
   "execution_count": 12,
   "id": "75a653ec",
   "metadata": {},
   "outputs": [
    {
     "name": "stdout",
     "output_type": "stream",
     "text": [
      "\tsno\tsname\tmarks\tphno\t\taddr\n",
      "\t12\tsam\t90\t9876543212\thyd\n",
      "\t13\tshree\t100\t7893654546\tpune\n",
      "\t14\t87\tyash\tmum\t9876456776\n"
     ]
    }
   ],
   "source": [
    "def disstuinf(sno,sname,marks,phno,addr):\n",
    "    print(\"\\t{}\\t{}\\t{}\\t{}\\t{}\".format(sno,sname,marks,phno,addr))\n",
    "    \n",
    "print(\"\\tsno\\tsname\\tmarks\\tphno\\t\\taddr\")\n",
    "disstuinf(12,\"sam\",90,9876543212,\"hyd\")\n",
    "disstuinf(13,\"shree\",100,7893654546,\"pune\")\n",
    "disstuinf(14,87,\"yash\",\"mum\",9876456776)          # It will take as it given "
   ]
  },
  {
   "cell_type": "code",
   "execution_count": null,
   "id": "0871a0e1",
   "metadata": {},
   "outputs": [],
   "source": []
  }
 ],
 "metadata": {
  "kernelspec": {
   "display_name": "Python 3 (ipykernel)",
   "language": "python",
   "name": "python3"
  },
  "language_info": {
   "codemirror_mode": {
    "name": "ipython",
    "version": 3
   },
   "file_extension": ".py",
   "mimetype": "text/x-python",
   "name": "python",
   "nbconvert_exporter": "python",
   "pygments_lexer": "ipython3",
   "version": "3.11.5"
  }
 },
 "nbformat": 4,
 "nbformat_minor": 5
}
