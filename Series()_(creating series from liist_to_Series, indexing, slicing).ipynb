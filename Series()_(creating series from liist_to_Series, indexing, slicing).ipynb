{
 "cells": [
  {
   "cell_type": "code",
   "execution_count": 1,
   "id": "c3370690",
   "metadata": {},
   "outputs": [
    {
     "name": "stdout",
     "output_type": "stream",
     "text": [
      "[1, 2, 3, 4, 5] <class 'list'> 1655435775936\n",
      "0    11\n",
      "1     2\n",
      "2     3\n",
      "3     4\n",
      "4     5\n",
      "dtype: int64 <class 'pandas.core.series.Series'> 1655435772688\n",
      "11 3 5\n",
      "a[0]= 10\n",
      "0    10\n",
      "1     2\n",
      "2     3\n",
      "3     4\n",
      "4     5\n",
      "dtype: int64\n",
      "====================\n",
      "0    10\n",
      "1     2\n",
      "dtype: int64\n",
      "====================\n",
      "1    2\n",
      "2    3\n",
      "3    4\n",
      "4    5\n",
      "dtype: int64\n",
      "====================\n",
      "====================\n",
      "1    11\n",
      "2     2\n",
      "3     3\n",
      "4     4\n",
      "5     5\n",
      "dtype: int64\n",
      "11 4\n",
      "====================\n",
      "1    11\n",
      "2     2\n",
      "3     3\n",
      "4     4\n",
      "dtype: int64\n",
      "====================\n",
      "2    2\n",
      "3    3\n",
      "4    4\n",
      "dtype: int64\n",
      "====================\n",
      "====================\n",
      "id1    11\n",
      "id2     2\n",
      "id3     3\n",
      "id4     4\n",
      "id5     5\n",
      "dtype: int64\n",
      "11\n",
      "11 4\n",
      "id1    11\n",
      "id2     2\n",
      "id3     3\n",
      "id4     4\n",
      "dtype: int64\n",
      "id1    11\n",
      "id2     2\n",
      "id3     3\n",
      "id4     4\n",
      "dtype: int64\n"
     ]
    }
   ],
   "source": [
    "import pandas as pd\n",
    "\n",
    "l = [1,2,3,4,5]\n",
    "print(l,type(l),id(l))\n",
    "l[0]=11       #------> This modification perform in list object l\n",
    "a = pd.Series(l)\n",
    "print(a,type(a),id(a))\n",
    "print(a[0],a[2],a[4])\n",
    "a[0] = 10    #-------> assigning/changing the value of a[0],  This modification perform in Series object(a) not in list object(l)\n",
    "print(\"a[0]=\",a[0])\n",
    "print(a)\n",
    "print(\"=\"*20)\n",
    "print(a[0:2])\n",
    "print(\"=\"*20)\n",
    "print(a[1:6])\n",
    "\n",
    "print(\"=\"*20)\n",
    "print(\"=\"*20)\n",
    "\n",
    "a = pd.Series(l,index=[1,2,3,4,5])\n",
    "print(a)\n",
    "\n",
    "#print(a[0])------> It will give the index error because '0' index is not there\n",
    "\n",
    "print(a[1],a[4])\n",
    "print(\"=\"*20)\n",
    "print(a[0:4])\n",
    "print(\"=\"*20)\n",
    "print(a[1:4])   #----->  Here slicing will not performed on programmer given index, it will perform on by default index\n",
    "\n",
    "print(\"=\"*20)\n",
    "print(\"=\"*20)\n",
    "\n",
    "a = pd.Series(l,index=[\"id1\",\"id2\",\"id3\",\"id4\",\"id5\"])\n",
    "print(a)\n",
    "\n",
    "print(a[0])   #------->How this statement is running here, & why not at above statement, because here id1,id2,... are taken as index names not as index values like above\n",
    "\n",
    "print(a[\"id1\"],a[\"id4\"])\n",
    "\n",
    "print(a[\"id1\":\"id4\"])\n",
    "print(a[0:4])"
   ]
  },
  {
   "cell_type": "code",
   "execution_count": 3,
   "id": "b1a727a3",
   "metadata": {},
   "outputs": [
    {
     "name": "stdout",
     "output_type": "stream",
     "text": [
      "1    1\n",
      "2    2\n",
      "3    3\n",
      "4    4\n",
      "5    5\n",
      "dtype: int64\n"
     ]
    }
   ],
   "source": [
    "import pandas as pd\n",
    "\n",
    "l = [1,2,3,4,5]\n",
    "a = pd.Series(l,index=[1,2,3,4,5])\n",
    "print(a)"
   ]
  },
  {
   "cell_type": "code",
   "execution_count": 6,
   "id": "2f3b41cf",
   "metadata": {},
   "outputs": [
    {
     "data": {
      "text/plain": [
       "1    1\n",
       "2    2\n",
       "3    3\n",
       "4    4\n",
       "dtype: int64"
      ]
     },
     "execution_count": 6,
     "metadata": {},
     "output_type": "execute_result"
    }
   ],
   "source": [
    "a[0:4]"
   ]
  },
  {
   "cell_type": "code",
   "execution_count": null,
   "id": "1d6fa754",
   "metadata": {},
   "outputs": [],
   "source": []
  }
 ],
 "metadata": {
  "kernelspec": {
   "display_name": "Python 3 (ipykernel)",
   "language": "python",
   "name": "python3"
  },
  "language_info": {
   "codemirror_mode": {
    "name": "ipython",
    "version": 3
   },
   "file_extension": ".py",
   "mimetype": "text/x-python",
   "name": "python",
   "nbconvert_exporter": "python",
   "pygments_lexer": "ipython3",
   "version": "3.11.5"
  }
 },
 "nbformat": 4,
 "nbformat_minor": 5
}
