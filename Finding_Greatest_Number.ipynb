{
 "cells": [
  {
   "cell_type": "code",
   "execution_count": 1,
   "id": "5c069ab9",
   "metadata": {},
   "outputs": [
    {
     "name": "stdout",
     "output_type": "stream",
     "text": [
      "Enter 1st number: 1\n",
      "Enter 2nd number: 1\n",
      "Both are Equal...\n"
     ]
    }
   ],
   "source": [
    "n1 = eval(input(\"Enter 1st number: \"))\n",
    "n2 = eval(input(\"Enter 2nd number: \"))\n",
    "\n",
    "if n1>n2:\n",
    "    print(f\"1st number {n1} is greatest\")\n",
    "    \n",
    "elif n2>n1:\n",
    "    print(f\"2nd number {n2} is greatest\")\n",
    "    \n",
    "else:\n",
    "    print(\"Both are Equal...\")\n",
    "    \n",
    "\n"
   ]
  },
  {
   "cell_type": "code",
   "execution_count": 2,
   "id": "132a061b",
   "metadata": {},
   "outputs": [
    {
     "name": "stdout",
     "output_type": "stream",
     "text": [
      "Enter 1st number: 2\n",
      "Enter 2nd number: 3\n",
      "[2, 3]\n",
      "[2, 3]\n",
      "3 is the greatest number\n",
      "2 is the smallest number\n"
     ]
    }
   ],
   "source": [
    "# We can find greatest or smallest number by sorting the inputed numbers as follows\n",
    "\n",
    "\n",
    "\n",
    "n1 = eval(input(\"Enter 1st number: \"))\n",
    "n2 = eval(input(\"Enter 2nd number: \"))\n",
    "\n",
    "l = []\n",
    "l.extend([n1,n2])\n",
    "print(l)\n",
    "\n",
    "l.sort()    # After sorting the list items will sort in ascending order means the smallest item will be first item of list and greatest will be last item.\n",
    "print(l)\n",
    "\n",
    "print(l[-1],\"is the greatest number\")\n",
    "print(l[0],\"is the smallest number\")"
   ]
  },
  {
   "cell_type": "code",
   "execution_count": 4,
   "id": "8aef28c1",
   "metadata": {},
   "outputs": [
    {
     "name": "stdout",
     "output_type": "stream",
     "text": [
      "Enter the list of numbers: [2,4.3,5,6,]\n",
      "[2, 4.3, 5, 6]\n",
      "6 is the greatest number\n",
      "2 is the smallest number\n"
     ]
    }
   ],
   "source": [
    "l = eval(input(\"Enter the list of numbers: \"))\n",
    "\n",
    "l.sort()\n",
    "print(l)\n",
    "\n",
    "print(l[-1],\"is the greatest number\")\n",
    "print(l[0],\"is the smallest number\")"
   ]
  },
  {
   "cell_type": "code",
   "execution_count": null,
   "id": "c8d0b352",
   "metadata": {},
   "outputs": [],
   "source": []
  },
  {
   "cell_type": "code",
   "execution_count": null,
   "id": "5b5a8166",
   "metadata": {},
   "outputs": [],
   "source": []
  },
  {
   "cell_type": "code",
   "execution_count": 5,
   "id": "a3c3d245",
   "metadata": {},
   "outputs": [
    {
     "name": "stdout",
     "output_type": "stream",
     "text": [
      "Enter 1st number: 32\n",
      "Enter 2nd number: 2\n",
      "Enter 3rd number: 12\n",
      "32 is the largest number...\n"
     ]
    }
   ],
   "source": [
    "n1 = eval(input(\"Enter 1st number: \"))\n",
    "n2 = eval(input(\"Enter 2nd number: \"))\n",
    "n3 = eval(input(\"Enter 3rd number: \"))\n",
    "\n",
    "if n1==n2==n3:\n",
    "    print(\"All are numbers are Equal...\")\n",
    "    \n",
    "elif n1>n2 and n1>n3:\n",
    "    print(f\"{n1} is the largest number...\")\n",
    "    \n",
    "elif n2>n3:                                     # here, if we write n2>n1 & n2>n3 condition, it will not affect or it will same as n2>n3 condition because it is alredy checked n1>n2 condition above, so it is not neccesary\n",
    "    print(f\"{n2} is the largest number...\")\n",
    "\n",
    "else:\n",
    "    print(f\"{n3} is the largest number...\")"
   ]
  },
  {
   "cell_type": "markdown",
   "id": "ca4f8192",
   "metadata": {},
   "source": []
  }
 ],
 "metadata": {
  "kernelspec": {
   "display_name": "Python 3 (ipykernel)",
   "language": "python",
   "name": "python3"
  },
  "language_info": {
   "codemirror_mode": {
    "name": "ipython",
    "version": 3
   },
   "file_extension": ".py",
   "mimetype": "text/x-python",
   "name": "python",
   "nbconvert_exporter": "python",
   "pygments_lexer": "ipython3",
   "version": "3.11.5"
  }
 },
 "nbformat": 4,
 "nbformat_minor": 5
}
