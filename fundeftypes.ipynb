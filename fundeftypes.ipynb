{
 "cells": [
  {
   "cell_type": "code",
   "execution_count": 2,
   "id": "a312ebbc",
   "metadata": {},
   "outputs": [
    {
     "name": "stdout",
     "output_type": "stream",
     "text": [
      "Enter 1st number to add:2\n",
      "Enter 2nd number to add:3\n",
      "sum = 5\n"
     ]
    }
   ],
   "source": [
    "\"\"\" \n",
    "1st type:\n",
    "Input taking from function call \n",
    "processing in function body \n",
    "Output giving to function call\n",
    "\"\"\"\n",
    "\n",
    "def add(a,b):     # a & b are formal parameters\n",
    "    c=a+b         # c is loacl variable\n",
    "    return c      # return statement is used for giving result back\n",
    "\n",
    "\n",
    "# main program \n",
    "\n",
    "x = int(input(\"Enter 1st number to add:\"))\n",
    "y = int(input(\"Enter 2nd number to add:\"))\n",
    "\n",
    "sum = add(x,y)    # function calling \n",
    "print(\"sum =\",sum )"
   ]
  },
  {
   "cell_type": "code",
   "execution_count": 3,
   "id": "ab9260b8",
   "metadata": {},
   "outputs": [
    {
     "name": "stdout",
     "output_type": "stream",
     "text": [
      "Enter 1st number to add2\n",
      "Enter 2nd number to add3\n",
      "sum = 5\n"
     ]
    }
   ],
   "source": [
    "\"\"\" \n",
    "2nd type:\n",
    "Input taking from function call \n",
    "processing in function body \n",
    "Output displaying in function body\n",
    "\"\"\"\n",
    "\n",
    "def add(a,b):\n",
    "    c=a+b\n",
    "    print(\"sum =\",c)\n",
    "    \n",
    "# main program \n",
    "x = int(input(\"Enter 1st number to add\"))\n",
    "y = int(input(\"Enter 2nd number to add\"))\n",
    "\n",
    "# main program\n",
    "add(x,y)\n"
   ]
  },
  {
   "cell_type": "code",
   "execution_count": 13,
   "id": "0a66dc14",
   "metadata": {},
   "outputs": [
    {
     "name": "stdout",
     "output_type": "stream",
     "text": [
      "Enter 1st number to add:2\n",
      "Enter 2nd number to add:3\n",
      "sum(2,3)=5\n"
     ]
    }
   ],
   "source": [
    "\"\"\" \n",
    "3rd type:\n",
    "Input taking in function body \n",
    "processing in function body \n",
    "Output displaying in function body\n",
    "\"\"\"\n",
    "\n",
    "def add():\n",
    "    a = int(input(\"Enter 1st number to add:\"))\n",
    "    b = int(input(\"Enter 2nd number to add:\"))\n",
    "    c = a+b\n",
    "    print(\"sum({},{})={}\".format(a,b,c))\n",
    "    \n",
    "# main program\n",
    "add()"
   ]
  },
  {
   "cell_type": "code",
   "execution_count": 18,
   "id": "ac945466",
   "metadata": {},
   "outputs": [
    {
     "name": "stdout",
     "output_type": "stream",
     "text": [
      "Enter 1st number to add:2\n",
      "Enter 2nd number to add:3\n",
      "sum = 5\n"
     ]
    }
   ],
   "source": [
    "\"\"\" \n",
    "4th type:\n",
    "Input taking in function body \n",
    "processing in function body \n",
    "Output giving to function call\n",
    "\"\"\"\n",
    "\n",
    "def add():\n",
    "    a = int(input(\"Enter 1st number to add:\"))\n",
    "    b = int(input(\"Enter 2nd number to add:\"))\n",
    "    c = a+b\n",
    "    return c\n",
    "\n",
    "# main program\n",
    "sum = add()\n",
    "print(\"sum =\",sum)"
   ]
  },
  {
   "cell_type": "code",
   "execution_count": null,
   "id": "e354fe33",
   "metadata": {},
   "outputs": [],
   "source": []
  }
 ],
 "metadata": {
  "kernelspec": {
   "display_name": "Python 3 (ipykernel)",
   "language": "python",
   "name": "python3"
  },
  "language_info": {
   "codemirror_mode": {
    "name": "ipython",
    "version": 3
   },
   "file_extension": ".py",
   "mimetype": "text/x-python",
   "name": "python",
   "nbconvert_exporter": "python",
   "pygments_lexer": "ipython3",
   "version": "3.11.5"
  }
 },
 "nbformat": 4,
 "nbformat_minor": 5
}
