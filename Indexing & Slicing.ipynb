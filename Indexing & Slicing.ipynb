{
 "cells": [
  {
   "cell_type": "code",
   "execution_count": 2,
   "id": "34747bc9",
   "metadata": {},
   "outputs": [
    {
     "data": {
      "text/plain": [
       "'srk'"
      ]
     },
     "execution_count": 2,
     "metadata": {},
     "output_type": "execute_result"
    }
   ],
   "source": [
    "a = 'srk'\n",
    "a"
   ]
  },
  {
   "cell_type": "code",
   "execution_count": 3,
   "id": "5b9d699d",
   "metadata": {},
   "outputs": [
    {
     "data": {
      "text/plain": [
       "str"
      ]
     },
     "execution_count": 3,
     "metadata": {},
     "output_type": "execute_result"
    }
   ],
   "source": [
    "type(a)"
   ]
  },
  {
   "cell_type": "code",
   "execution_count": 4,
   "id": "1a5f1f87",
   "metadata": {},
   "outputs": [
    {
     "data": {
      "text/plain": [
       "'s'"
      ]
     },
     "execution_count": 4,
     "metadata": {},
     "output_type": "execute_result"
    }
   ],
   "source": [
    "a[0]"
   ]
  },
  {
   "cell_type": "code",
   "execution_count": 5,
   "id": "81f9f421",
   "metadata": {},
   "outputs": [
    {
     "data": {
      "text/plain": [
       "'r'"
      ]
     },
     "execution_count": 5,
     "metadata": {},
     "output_type": "execute_result"
    }
   ],
   "source": [
    "a[1]"
   ]
  },
  {
   "cell_type": "code",
   "execution_count": 6,
   "id": "c7b3ffc4",
   "metadata": {},
   "outputs": [
    {
     "ename": "SyntaxError",
     "evalue": "invalid syntax (4137339505.py, line 1)",
     "output_type": "error",
     "traceback": [
      "\u001b[1;36m  Cell \u001b[1;32mIn[6], line 1\u001b[1;36m\u001b[0m\n\u001b[1;33m    a.[0]\u001b[0m\n\u001b[1;37m      ^\u001b[0m\n\u001b[1;31mSyntaxError\u001b[0m\u001b[1;31m:\u001b[0m invalid syntax\n"
     ]
    }
   ],
   "source": [
    "a.[0]"
   ]
  },
  {
   "cell_type": "code",
   "execution_count": 8,
   "id": "d360ba74",
   "metadata": {},
   "outputs": [
    {
     "data": {
      "text/plain": [
       "[1, 2, 3, 'srk', 'xy']"
      ]
     },
     "execution_count": 8,
     "metadata": {},
     "output_type": "execute_result"
    }
   ],
   "source": [
    "b = [1,2,3,'srk','xy']\n",
    "b"
   ]
  },
  {
   "cell_type": "code",
   "execution_count": 9,
   "id": "cd6dc4c0",
   "metadata": {},
   "outputs": [
    {
     "data": {
      "text/plain": [
       "list"
      ]
     },
     "execution_count": 9,
     "metadata": {},
     "output_type": "execute_result"
    }
   ],
   "source": [
    "type(b)"
   ]
  },
  {
   "cell_type": "code",
   "execution_count": 10,
   "id": "000f8f8e",
   "metadata": {},
   "outputs": [
    {
     "data": {
      "text/plain": [
       "1"
      ]
     },
     "execution_count": 10,
     "metadata": {},
     "output_type": "execute_result"
    }
   ],
   "source": [
    "b[0]"
   ]
  },
  {
   "cell_type": "code",
   "execution_count": 11,
   "id": "7d75162c",
   "metadata": {},
   "outputs": [
    {
     "data": {
      "text/plain": [
       "'xy'"
      ]
     },
     "execution_count": 11,
     "metadata": {},
     "output_type": "execute_result"
    }
   ],
   "source": [
    "b[4]"
   ]
  },
  {
   "cell_type": "code",
   "execution_count": 12,
   "id": "8ec12a4b",
   "metadata": {},
   "outputs": [
    {
     "ename": "SyntaxError",
     "evalue": "invalid syntax (4078380909.py, line 1)",
     "output_type": "error",
     "traceback": [
      "\u001b[1;36m  Cell \u001b[1;32mIn[12], line 1\u001b[1;36m\u001b[0m\n\u001b[1;33m    b.[4]\u001b[0m\n\u001b[1;37m      ^\u001b[0m\n\u001b[1;31mSyntaxError\u001b[0m\u001b[1;31m:\u001b[0m invalid syntax\n"
     ]
    }
   ],
   "source": [
    "b.[4]"
   ]
  },
  {
   "cell_type": "code",
   "execution_count": 13,
   "id": "653ceafc",
   "metadata": {},
   "outputs": [
    {
     "data": {
      "text/plain": [
       "[1, 2, 3]"
      ]
     },
     "execution_count": 13,
     "metadata": {},
     "output_type": "execute_result"
    }
   ],
   "source": [
    "b[0:3]"
   ]
  },
  {
   "cell_type": "code",
   "execution_count": 14,
   "id": "39e6f654",
   "metadata": {},
   "outputs": [
    {
     "ename": "SyntaxError",
     "evalue": "invalid syntax (3532333872.py, line 1)",
     "output_type": "error",
     "traceback": [
      "\u001b[1;36m  Cell \u001b[1;32mIn[14], line 1\u001b[1;36m\u001b[0m\n\u001b[1;33m    b.[0:3]\u001b[0m\n\u001b[1;37m      ^\u001b[0m\n\u001b[1;31mSyntaxError\u001b[0m\u001b[1;31m:\u001b[0m invalid syntax\n"
     ]
    }
   ],
   "source": [
    "b.[0:3]"
   ]
  },
  {
   "cell_type": "markdown",
   "id": "4cb45ad1",
   "metadata": {},
   "source": [
    "**Indexing** or **Slicing** will not applicable on the fundamental datatypes except **string** datatype"
   ]
  },
  {
   "cell_type": "code",
   "execution_count": 15,
   "id": "00fd2b85",
   "metadata": {},
   "outputs": [
    {
     "data": {
      "text/plain": [
       "1234"
      ]
     },
     "execution_count": 15,
     "metadata": {},
     "output_type": "execute_result"
    }
   ],
   "source": [
    "c = 1234\n",
    "c"
   ]
  },
  {
   "cell_type": "code",
   "execution_count": 16,
   "id": "2146c683",
   "metadata": {},
   "outputs": [
    {
     "data": {
      "text/plain": [
       "int"
      ]
     },
     "execution_count": 16,
     "metadata": {},
     "output_type": "execute_result"
    }
   ],
   "source": [
    "type(c)"
   ]
  },
  {
   "cell_type": "code",
   "execution_count": 17,
   "id": "be1ad19b",
   "metadata": {},
   "outputs": [
    {
     "ename": "TypeError",
     "evalue": "'int' object is not subscriptable",
     "output_type": "error",
     "traceback": [
      "\u001b[1;31m---------------------------------------------------------------------------\u001b[0m",
      "\u001b[1;31mTypeError\u001b[0m                                 Traceback (most recent call last)",
      "Cell \u001b[1;32mIn[17], line 1\u001b[0m\n\u001b[1;32m----> 1\u001b[0m c[\u001b[38;5;241m0\u001b[39m]\n",
      "\u001b[1;31mTypeError\u001b[0m: 'int' object is not subscriptable"
     ]
    }
   ],
   "source": [
    "c[0]"
   ]
  },
  {
   "cell_type": "code",
   "execution_count": 18,
   "id": "e9e46a48",
   "metadata": {},
   "outputs": [
    {
     "ename": "TypeError",
     "evalue": "'int' object is not subscriptable",
     "output_type": "error",
     "traceback": [
      "\u001b[1;31m---------------------------------------------------------------------------\u001b[0m",
      "\u001b[1;31mTypeError\u001b[0m                                 Traceback (most recent call last)",
      "Cell \u001b[1;32mIn[18], line 1\u001b[0m\n\u001b[1;32m----> 1\u001b[0m c[\u001b[38;5;241m2\u001b[39m]\n",
      "\u001b[1;31mTypeError\u001b[0m: 'int' object is not subscriptable"
     ]
    }
   ],
   "source": [
    "c[2]"
   ]
  },
  {
   "cell_type": "code",
   "execution_count": 19,
   "id": "f5316f3e",
   "metadata": {},
   "outputs": [
    {
     "data": {
      "text/plain": [
       "100.2"
      ]
     },
     "execution_count": 19,
     "metadata": {},
     "output_type": "execute_result"
    }
   ],
   "source": [
    "d = 100.20\n",
    "d"
   ]
  },
  {
   "cell_type": "code",
   "execution_count": 20,
   "id": "f8d941c8",
   "metadata": {},
   "outputs": [
    {
     "data": {
      "text/plain": [
       "float"
      ]
     },
     "execution_count": 20,
     "metadata": {},
     "output_type": "execute_result"
    }
   ],
   "source": [
    "type(d)"
   ]
  },
  {
   "cell_type": "code",
   "execution_count": 21,
   "id": "30abc01f",
   "metadata": {},
   "outputs": [
    {
     "ename": "TypeError",
     "evalue": "'float' object is not subscriptable",
     "output_type": "error",
     "traceback": [
      "\u001b[1;31m---------------------------------------------------------------------------\u001b[0m",
      "\u001b[1;31mTypeError\u001b[0m                                 Traceback (most recent call last)",
      "Cell \u001b[1;32mIn[21], line 1\u001b[0m\n\u001b[1;32m----> 1\u001b[0m d[\u001b[38;5;241m0\u001b[39m]\n",
      "\u001b[1;31mTypeError\u001b[0m: 'float' object is not subscriptable"
     ]
    }
   ],
   "source": [
    "d[0]"
   ]
  },
  {
   "cell_type": "code",
   "execution_count": 22,
   "id": "7d2efd48",
   "metadata": {},
   "outputs": [
    {
     "data": {
      "text/plain": [
       "True"
      ]
     },
     "execution_count": 22,
     "metadata": {},
     "output_type": "execute_result"
    }
   ],
   "source": [
    "e = True\n",
    "e"
   ]
  },
  {
   "cell_type": "code",
   "execution_count": 23,
   "id": "cab61bd7",
   "metadata": {},
   "outputs": [
    {
     "data": {
      "text/plain": [
       "bool"
      ]
     },
     "execution_count": 23,
     "metadata": {},
     "output_type": "execute_result"
    }
   ],
   "source": [
    "type(e)"
   ]
  },
  {
   "cell_type": "code",
   "execution_count": 24,
   "id": "7ae01d64",
   "metadata": {},
   "outputs": [
    {
     "ename": "TypeError",
     "evalue": "'bool' object is not subscriptable",
     "output_type": "error",
     "traceback": [
      "\u001b[1;31m---------------------------------------------------------------------------\u001b[0m",
      "\u001b[1;31mTypeError\u001b[0m                                 Traceback (most recent call last)",
      "Cell \u001b[1;32mIn[24], line 1\u001b[0m\n\u001b[1;32m----> 1\u001b[0m e[\u001b[38;5;241m1\u001b[39m]\n",
      "\u001b[1;31mTypeError\u001b[0m: 'bool' object is not subscriptable"
     ]
    }
   ],
   "source": [
    "e[1]"
   ]
  },
  {
   "cell_type": "code",
   "execution_count": 25,
   "id": "90272fb4",
   "metadata": {},
   "outputs": [
    {
     "data": {
      "text/plain": [
       "'ramraj'"
      ]
     },
     "execution_count": 25,
     "metadata": {},
     "output_type": "execute_result"
    }
   ],
   "source": [
    "f = 'ramraj'\n",
    "f"
   ]
  },
  {
   "cell_type": "code",
   "execution_count": 26,
   "id": "d8fdadc3",
   "metadata": {},
   "outputs": [
    {
     "data": {
      "text/plain": [
       "str"
      ]
     },
     "execution_count": 26,
     "metadata": {},
     "output_type": "execute_result"
    }
   ],
   "source": [
    "type(f)"
   ]
  },
  {
   "cell_type": "code",
   "execution_count": 27,
   "id": "ae56c35b",
   "metadata": {},
   "outputs": [
    {
     "data": {
      "text/plain": [
       "'r'"
      ]
     },
     "execution_count": 27,
     "metadata": {},
     "output_type": "execute_result"
    }
   ],
   "source": [
    "f[0]"
   ]
  },
  {
   "cell_type": "code",
   "execution_count": 28,
   "id": "f51e5e59",
   "metadata": {},
   "outputs": [
    {
     "data": {
      "text/plain": [
       "'m'"
      ]
     },
     "execution_count": 28,
     "metadata": {},
     "output_type": "execute_result"
    }
   ],
   "source": [
    "f[2]"
   ]
  },
  {
   "cell_type": "code",
   "execution_count": null,
   "id": "1b2706f2",
   "metadata": {},
   "outputs": [],
   "source": []
  },
  {
   "cell_type": "code",
   "execution_count": null,
   "id": "21162e8e",
   "metadata": {},
   "outputs": [],
   "source": []
  },
  {
   "cell_type": "markdown",
   "id": "cfb83e4e",
   "metadata": {},
   "source": [
    "**Note** :\n",
    "- we can apply indexing or slicing on the int, float, and boolean datatype also first by converting it into string and then apply indexing or slicing and again convert the required data into respected datatype.  "
   ]
  },
  {
   "cell_type": "code",
   "execution_count": null,
   "id": "2dcd8235",
   "metadata": {},
   "outputs": [],
   "source": [
    "g = 12345\n",
    "g"
   ]
  },
  {
   "cell_type": "code",
   "execution_count": null,
   "id": "d5fc37d2",
   "metadata": {},
   "outputs": [],
   "source": [
    "type(g)"
   ]
  },
  {
   "cell_type": "code",
   "execution_count": null,
   "id": "83e1b834",
   "metadata": {},
   "outputs": [],
   "source": [
    "g = str(g)\n",
    "g"
   ]
  },
  {
   "cell_type": "code",
   "execution_count": null,
   "id": "d5182f43",
   "metadata": {},
   "outputs": [],
   "source": [
    "type(g)"
   ]
  },
  {
   "cell_type": "code",
   "execution_count": null,
   "id": "750296c3",
   "metadata": {},
   "outputs": [],
   "source": [
    "g[1]"
   ]
  },
  {
   "cell_type": "code",
   "execution_count": null,
   "id": "b52d7746",
   "metadata": {},
   "outputs": [],
   "source": [
    "int(g[1])"
   ]
  },
  {
   "cell_type": "code",
   "execution_count": null,
   "id": "de710cb6",
   "metadata": {},
   "outputs": [],
   "source": []
  },
  {
   "cell_type": "code",
   "execution_count": null,
   "id": "693137a9",
   "metadata": {},
   "outputs": [],
   "source": [
    "h = 100.30\n",
    "type(h)"
   ]
  },
  {
   "cell_type": "code",
   "execution_count": null,
   "id": "fe0d3df6",
   "metadata": {},
   "outputs": [],
   "source": [
    "str(h)[2]"
   ]
  },
  {
   "cell_type": "code",
   "execution_count": null,
   "id": "ef9c365b",
   "metadata": {},
   "outputs": [],
   "source": [
    "int(str(h)[2])"
   ]
  },
  {
   "cell_type": "code",
   "execution_count": null,
   "id": "f3fc2b1f",
   "metadata": {},
   "outputs": [],
   "source": [
    "eval(str(h)[0])"
   ]
  },
  {
   "cell_type": "code",
   "execution_count": null,
   "id": "3219300e",
   "metadata": {},
   "outputs": [],
   "source": []
  },
  {
   "cell_type": "code",
   "execution_count": null,
   "id": "28b5b46d",
   "metadata": {},
   "outputs": [],
   "source": [
    "int(str(h)[0:4])"
   ]
  },
  {
   "cell_type": "code",
   "execution_count": null,
   "id": "eb9452a3",
   "metadata": {},
   "outputs": [],
   "source": [
    "float(str(h)[0:4])"
   ]
  },
  {
   "cell_type": "code",
   "execution_count": null,
   "id": "dc787feb",
   "metadata": {},
   "outputs": [],
   "source": [
    "eval(str(h)[0:4])"
   ]
  },
  {
   "cell_type": "code",
   "execution_count": null,
   "id": "7a479db0",
   "metadata": {},
   "outputs": [],
   "source": []
  },
  {
   "cell_type": "code",
   "execution_count": null,
   "id": "2a069207",
   "metadata": {},
   "outputs": [],
   "source": [
    "j = True\n",
    "type(j)"
   ]
  },
  {
   "cell_type": "code",
   "execution_count": null,
   "id": "2eb873fb",
   "metadata": {},
   "outputs": [],
   "source": [
    "str(j)[2]"
   ]
  },
  {
   "cell_type": "code",
   "execution_count": 7,
   "id": "bab283b3",
   "metadata": {},
   "outputs": [
    {
     "ename": "NameError",
     "evalue": "name 'j' is not defined",
     "output_type": "error",
     "traceback": [
      "\u001b[1;31m---------------------------------------------------------------------------\u001b[0m",
      "\u001b[1;31mNameError\u001b[0m                                 Traceback (most recent call last)",
      "Cell \u001b[1;32mIn[7], line 1\u001b[0m\n\u001b[1;32m----> 1\u001b[0m \u001b[38;5;28mstr\u001b[39m(j)[\u001b[38;5;241m0\u001b[39m]\n",
      "\u001b[1;31mNameError\u001b[0m: name 'j' is not defined"
     ]
    }
   ],
   "source": [
    "str(j)[0]"
   ]
  },
  {
   "cell_type": "code",
   "execution_count": null,
   "id": "71204a64",
   "metadata": {},
   "outputs": [],
   "source": []
  },
  {
   "cell_type": "code",
   "execution_count": null,
   "id": "f3f9a008",
   "metadata": {},
   "outputs": [],
   "source": []
  },
  {
   "cell_type": "code",
   "execution_count": null,
   "id": "1a3f4018",
   "metadata": {},
   "outputs": [],
   "source": [
    "l = [1,2,3,4,'srk','yx']\n",
    "type(l)"
   ]
  },
  {
   "cell_type": "code",
   "execution_count": null,
   "id": "43c2653d",
   "metadata": {},
   "outputs": [],
   "source": [
    "l.append([2])"
   ]
  },
  {
   "cell_type": "code",
   "execution_count": null,
   "id": "9a42bb53",
   "metadata": {},
   "outputs": [],
   "source": [
    "l[1]"
   ]
  },
  {
   "cell_type": "code",
   "execution_count": null,
   "id": "1649bdc6",
   "metadata": {},
   "outputs": [],
   "source": [
    "l[1:4]"
   ]
  },
  {
   "cell_type": "code",
   "execution_count": null,
   "id": "2235ba55",
   "metadata": {},
   "outputs": [],
   "source": [
    "l[1:-2]"
   ]
  },
  {
   "cell_type": "code",
   "execution_count": null,
   "id": "dec810f5",
   "metadata": {},
   "outputs": [],
   "source": [
    "l[-6:-2]"
   ]
  },
  {
   "cell_type": "code",
   "execution_count": null,
   "id": "63f46e7e",
   "metadata": {},
   "outputs": [],
   "source": [
    "l[-2:-6]     # It will gives empty output beacuse while slicing, slicing will happens from left to right, because of that the -2 comes right side of -6, so it will empty output."
   ]
  },
  {
   "cell_type": "code",
   "execution_count": null,
   "id": "55e73f11",
   "metadata": {},
   "outputs": [],
   "source": [
    "l[1:4:2]"
   ]
  },
  {
   "cell_type": "code",
   "execution_count": null,
   "id": "c411ad08",
   "metadata": {},
   "outputs": [],
   "source": [
    "l[1:5:3]"
   ]
  },
  {
   "cell_type": "code",
   "execution_count": null,
   "id": "3533179b",
   "metadata": {},
   "outputs": [],
   "source": [
    "l[-6:-1:2]"
   ]
  },
  {
   "cell_type": "code",
   "execution_count": null,
   "id": "807720bb",
   "metadata": {},
   "outputs": [],
   "source": [
    "l[-6:-1:4]"
   ]
  },
  {
   "cell_type": "code",
   "execution_count": null,
   "id": "628ae7a3",
   "metadata": {},
   "outputs": [],
   "source": [
    "l[-6:-1:3]"
   ]
  },
  {
   "cell_type": "code",
   "execution_count": null,
   "id": "cfe3a58f",
   "metadata": {},
   "outputs": [],
   "source": [
    "l[0:5:-1]   # -1,-2,-3, means it in reverse direction, means it will gives output in reverse direction."
   ]
  },
  {
   "cell_type": "code",
   "execution_count": null,
   "id": "572dfd1b",
   "metadata": {},
   "outputs": [],
   "source": [
    "l[5:0:-1]      # -1, -2, -3... It will slice the elements from right to left."
   ]
  },
  {
   "cell_type": "code",
   "execution_count": null,
   "id": "5e1fb0b6",
   "metadata": {},
   "outputs": [],
   "source": [
    "l[5:1:-2]"
   ]
  },
  {
   "cell_type": "code",
   "execution_count": null,
   "id": "b60b7aaf",
   "metadata": {},
   "outputs": [],
   "source": [
    "l[-1:-6:-1]"
   ]
  },
  {
   "cell_type": "code",
   "execution_count": null,
   "id": "9f7bae33",
   "metadata": {},
   "outputs": [],
   "source": [
    "l[-2:-5:-2]"
   ]
  },
  {
   "cell_type": "code",
   "execution_count": null,
   "id": "d5cc5cc9",
   "metadata": {},
   "outputs": [],
   "source": [
    "l[0:1000:1]    # While Slicing if the starting or ending number is not from index number then it will take the actual starting or ending as the slicing index."
   ]
  },
  {
   "cell_type": "code",
   "execution_count": null,
   "id": "45d244a6",
   "metadata": {},
   "outputs": [],
   "source": [
    "l[1:30:2]"
   ]
  },
  {
   "cell_type": "code",
   "execution_count": null,
   "id": "dcd10c50",
   "metadata": {},
   "outputs": [],
   "source": [
    "l[-10:-1:1]"
   ]
  },
  {
   "cell_type": "code",
   "execution_count": null,
   "id": "f3bc1851",
   "metadata": {},
   "outputs": [],
   "source": [
    "l[:5:1]   # If we not give starting point index then it will consider 0 as staring index"
   ]
  },
  {
   "cell_type": "code",
   "execution_count": null,
   "id": "407c76bf",
   "metadata": {},
   "outputs": [],
   "source": [
    "l[1::2]    # If we not give ending point index then it will take the last index of the list as ending point."
   ]
  },
  {
   "cell_type": "code",
   "execution_count": null,
   "id": "216f1cf0",
   "metadata": {},
   "outputs": [],
   "source": []
  },
  {
   "cell_type": "markdown",
   "id": "2cd2a512",
   "metadata": {},
   "source": [
    "While Slicing we will never get the **Error**. Instead of error we will get empty output."
   ]
  },
  {
   "cell_type": "code",
   "execution_count": null,
   "id": "d1da3119",
   "metadata": {},
   "outputs": [],
   "source": [
    "s = 'Data Science'\n",
    "\n",
    "s[::-1]    # -1,-2,-3,... it will gives the slicing in reverse direction."
   ]
  },
  {
   "cell_type": "code",
   "execution_count": null,
   "id": "d4a75bcc",
   "metadata": {},
   "outputs": [],
   "source": [
    "s[-1:-10:-2]"
   ]
  },
  {
   "cell_type": "code",
   "execution_count": null,
   "id": "ffcc2f0b",
   "metadata": {},
   "outputs": [],
   "source": []
  },
  {
   "cell_type": "code",
   "execution_count": null,
   "id": "4f099501",
   "metadata": {},
   "outputs": [],
   "source": []
  },
  {
   "cell_type": "code",
   "execution_count": null,
   "id": "b0c121bd",
   "metadata": {},
   "outputs": [],
   "source": []
  },
  {
   "cell_type": "code",
   "execution_count": null,
   "id": "2feff3fb",
   "metadata": {},
   "outputs": [],
   "source": [
    "a=10"
   ]
  },
  {
   "cell_type": "code",
   "execution_count": null,
   "id": "ac51a842",
   "metadata": {},
   "outputs": [],
   "source": [
    "b=10"
   ]
  },
  {
   "cell_type": "code",
   "execution_count": null,
   "id": "be48e209",
   "metadata": {},
   "outputs": [],
   "source": [
    "id(a)"
   ]
  },
  {
   "cell_type": "code",
   "execution_count": null,
   "id": "6e510139",
   "metadata": {},
   "outputs": [],
   "source": [
    "id(b)"
   ]
  },
  {
   "cell_type": "code",
   "execution_count": null,
   "id": "76de12bd",
   "metadata": {},
   "outputs": [],
   "source": [
    "a=c\n",
    "c"
   ]
  },
  {
   "cell_type": "code",
   "execution_count": null,
   "id": "50e21998",
   "metadata": {},
   "outputs": [],
   "source": [
    "c=a\n",
    "c"
   ]
  },
  {
   "cell_type": "code",
   "execution_count": null,
   "id": "c23caaf1",
   "metadata": {},
   "outputs": [],
   "source": []
  }
 ],
 "metadata": {
  "kernelspec": {
   "display_name": "Python 3 (ipykernel)",
   "language": "python",
   "name": "python3"
  },
  "language_info": {
   "codemirror_mode": {
    "name": "ipython",
    "version": 3
   },
   "file_extension": ".py",
   "mimetype": "text/x-python",
   "name": "python",
   "nbconvert_exporter": "python",
   "pygments_lexer": "ipython3",
   "version": "3.11.5"
  }
 },
 "nbformat": 4,
 "nbformat_minor": 5
}
