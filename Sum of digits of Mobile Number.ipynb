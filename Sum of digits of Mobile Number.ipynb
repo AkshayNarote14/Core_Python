{
 "cells": [
  {
   "cell_type": "code",
   "execution_count": 19,
   "id": "fafd77f0",
   "metadata": {},
   "outputs": [
    {
     "name": "stdout",
     "output_type": "stream",
     "text": [
      "Enter your Mobile Number : 9421295930\n",
      "9421295930\n",
      "44\n",
      "final sum :  8\n"
     ]
    }
   ],
   "source": [
    "num = input(\"Enter your Mobile Number : \")\n",
    "print(num)\n",
    "\n",
    "i = 0\n",
    "j = 0\n",
    "sum = 0\n",
    "fin_sum = 0\n",
    "\n",
    "while i < len(num):\n",
    "    sum = sum + int(num[i])\n",
    "        \n",
    "    i = i + 1\n",
    "    \n",
    "print(sum)\n",
    "\n",
    "sum = str(sum)\n",
    "if len(sum) > 1:\n",
    "    while j < len(sum):\n",
    "        fin_sum = fin_sum + int(sum[j])\n",
    "        j = j + 1\n",
    "    print(\"final sum : \",fin_sum)"
   ]
  },
  {
   "cell_type": "code",
   "execution_count": 13,
   "id": "c271d81d",
   "metadata": {},
   "outputs": [
    {
     "data": {
      "text/plain": [
       "2"
      ]
     },
     "execution_count": 13,
     "metadata": {},
     "output_type": "execute_result"
    }
   ],
   "source": [
    "len(sum)"
   ]
  },
  {
   "cell_type": "code",
   "execution_count": 10,
   "id": "5a6b1377",
   "metadata": {},
   "outputs": [
    {
     "data": {
      "text/plain": [
       "1"
      ]
     },
     "execution_count": 10,
     "metadata": {},
     "output_type": "execute_result"
    }
   ],
   "source": [
    "int(num[0])"
   ]
  },
  {
   "cell_type": "code",
   "execution_count": null,
   "id": "1be54546",
   "metadata": {},
   "outputs": [],
   "source": []
  }
 ],
 "metadata": {
  "kernelspec": {
   "display_name": "Python 3 (ipykernel)",
   "language": "python",
   "name": "python3"
  },
  "language_info": {
   "codemirror_mode": {
    "name": "ipython",
    "version": 3
   },
   "file_extension": ".py",
   "mimetype": "text/x-python",
   "name": "python",
   "nbconvert_exporter": "python",
   "pygments_lexer": "ipython3",
   "version": "3.11.5"
  }
 },
 "nbformat": 4,
 "nbformat_minor": 5
}
