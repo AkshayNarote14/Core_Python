{
 "cells": [
  {
   "cell_type": "code",
   "execution_count": null,
   "id": "bf125334",
   "metadata": {},
   "outputs": [],
   "source": [
    "w = float(input(\"Enter your weight in kg\"))\n",
    "print(w)\n",
    "c = int(input(\"Enter your choice 1.F(feet)  2.M(meter)\"))\n",
    "\n",
    "if c==1 :\n",
    "    print(\"Enter Your height in feet and inches\")\n",
    "    f = float(input(\"Enter your height in feet\"))\n",
    "    f = (f*30)/100\n",
    "    i = float(input(\"Enter your height in inches\"))\n",
    "    i = (i*2.5)/100\n",
    "    h = f+i\n",
    "    print(h)\n",
    "    \n",
    "else :\n",
    "    h = float(input(\"Enter your height in meter\"))\n",
    "    print(h)\n",
    "    \n",
    "BMI = w/(h)**2\n",
    "print(BMI)\n",
    "\n",
    "if BMI<18.5:\n",
    "    print(\"You are Underweight...\")\n",
    "elif BMI>=18.5 and BMI<25.0:\n",
    "    print(\"You are Normal...\")\n",
    "elif BMI>=25.0 and BMI<30.0:\n",
    "    print(\"You are Overweight...\")\n",
    "else:\n",
    "    print(\"You are very Overwight...\")"
   ]
  },
  {
   "cell_type": "code",
   "execution_count": null,
   "id": "fb1de7a2",
   "metadata": {},
   "outputs": [],
   "source": []
  },
  {
   "cell_type": "code",
   "execution_count": null,
   "id": "80733a7c",
   "metadata": {},
   "outputs": [],
   "source": []
  }
 ],
 "metadata": {
  "kernelspec": {
   "display_name": "Python 3 (ipykernel)",
   "language": "python",
   "name": "python3"
  },
  "language_info": {
   "codemirror_mode": {
    "name": "ipython",
    "version": 3
   },
   "file_extension": ".py",
   "mimetype": "text/x-python",
   "name": "python",
   "nbconvert_exporter": "python",
   "pygments_lexer": "ipython3",
   "version": "3.11.5"
  }
 },
 "nbformat": 4,
 "nbformat_minor": 5
}
