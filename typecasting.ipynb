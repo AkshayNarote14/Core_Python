{
 "cells": [
  {
   "cell_type": "code",
   "execution_count": 1,
   "id": "50171869",
   "metadata": {},
   "outputs": [
    {
     "data": {
      "text/plain": [
       "123"
      ]
     },
     "execution_count": 1,
     "metadata": {},
     "output_type": "execute_result"
    }
   ],
   "source": [
    "int(float(str(\"123\")))"
   ]
  },
  {
   "cell_type": "code",
   "execution_count": 2,
   "id": "801ba1b5",
   "metadata": {},
   "outputs": [
    {
     "data": {
      "text/plain": [
       "0"
      ]
     },
     "execution_count": 2,
     "metadata": {},
     "output_type": "execute_result"
    }
   ],
   "source": [
    "int(bool(False))"
   ]
  },
  {
   "cell_type": "code",
   "execution_count": 1,
   "id": "7cf3ea9b",
   "metadata": {},
   "outputs": [],
   "source": [
    "# float(int(str(\"123.0\")))"
   ]
  },
  {
   "cell_type": "code",
   "execution_count": 4,
   "id": "65eff257",
   "metadata": {},
   "outputs": [
    {
     "data": {
      "text/plain": [
       "123.0"
      ]
     },
     "execution_count": 4,
     "metadata": {},
     "output_type": "execute_result"
    }
   ],
   "source": [
    "float(int(str(\"123\")))"
   ]
  },
  {
   "cell_type": "code",
   "execution_count": 5,
   "id": "225730da",
   "metadata": {},
   "outputs": [
    {
     "data": {
      "text/plain": [
       "'123.0'"
      ]
     },
     "execution_count": 5,
     "metadata": {},
     "output_type": "execute_result"
    }
   ],
   "source": [
    "str(float(int(str(\"123\"))))"
   ]
  },
  {
   "cell_type": "code",
   "execution_count": 2,
   "id": "18995867",
   "metadata": {},
   "outputs": [],
   "source": [
    "# str(float(int(str(\"abc\"))))"
   ]
  },
  {
   "cell_type": "code",
   "execution_count": null,
   "id": "39ab426e",
   "metadata": {},
   "outputs": [],
   "source": [
    "#we cann't convert text or non numeric string into float or int."
   ]
  }
 ],
 "metadata": {
  "kernelspec": {
   "display_name": "Python 3 (ipykernel)",
   "language": "python",
   "name": "python3"
  },
  "language_info": {
   "codemirror_mode": {
    "name": "ipython",
    "version": 3
   },
   "file_extension": ".py",
   "mimetype": "text/x-python",
   "name": "python",
   "nbconvert_exporter": "python",
   "pygments_lexer": "ipython3",
   "version": "3.11.5"
  }
 },
 "nbformat": 4,
 "nbformat_minor": 5
}
