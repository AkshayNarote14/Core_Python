{
 "cells": [
  {
   "cell_type": "code",
   "execution_count": null,
   "id": "3600cf11",
   "metadata": {},
   "outputs": [],
   "source": [
    "num = input(\"Enter the choice number:\")\n",
    "number = list(num)\n",
    "i = 0\n",
    "j = i+1\n",
    "for i in range(10):\n",
    "    for j in range(10):\n",
    "        if number[i]<number[j]:\n",
    "            print(\"Valid Number...\")\n",
    "        elif number[i]==number[j]:\n",
    "            print(\"Invalid Number\")\n",
    "        else:\n",
    "            print(\"Invalid number...\")\n",
    "\n"
   ]
  },
  {
   "cell_type": "code",
   "execution_count": null,
   "id": "15853aae",
   "metadata": {},
   "outputs": [],
   "source": [
    "num = input(\"Enter Choice Number:\")\n",
    "items = list(num)\n",
    "\n",
    "def is_ascending(items):\n",
    "    for index,item in enumerate(items):\n",
    "        for ritem in items[index+1:]:\n",
    "            if ritem < item:\n",
    "                print(\"Valid number...\")\n",
    "            elif ritem == item:\n",
    "                return False\n",
    "            else:\n",
    "                return False\n",
    "            \n"
   ]
  },
  {
   "cell_type": "code",
   "execution_count": null,
   "id": "489a6d13",
   "metadata": {},
   "outputs": [],
   "source": [
    "num = input(\"Enter the choice number:\")\n",
    "number = list(num)\n",
    "print(number)\n",
    "n=int(number[0])\n",
    "n"
   ]
  },
  {
   "cell_type": "code",
   "execution_count": 21,
   "id": "71fff1c2",
   "metadata": {},
   "outputs": [
    {
     "name": "stdout",
     "output_type": "stream",
     "text": [
      "Enter the choice number:1234\n",
      "['1', '2', '3', '4'] <class 'list'>\n",
      "1 <class 'str'>\n",
      "1 2\n",
      "1 3\n",
      "1 4\n",
      "2 2\n",
      "2 3\n",
      "2 4\n",
      "3 2\n",
      "Invalid number...\n",
      "3 3\n",
      "3 4\n",
      "4 2\n",
      "Invalid number...\n",
      "4 3\n",
      "Invalid number...\n",
      "4 4\n"
     ]
    }
   ],
   "source": [
    "num = input(\"Enter the choice number:\")\n",
    "number = list(num)\n",
    "print(number,type(number))\n",
    "print(number[0],type(number[0]))\n",
    "for i in range(0,4):\n",
    "    for j in range(1,4):\n",
    "        print(int(number[i]),int(number[j]))\n",
    "        if int(number[i])<int(number[j]):\n",
    "                continue\n",
    "        elif i==j:\n",
    "                continue\n",
    "        else:\n",
    "            print(\"Invalid number...\")\n",
    "            \n",
    "        "
   ]
  },
  {
   "cell_type": "code",
   "execution_count": 3,
   "id": "ab43cae8",
   "metadata": {},
   "outputs": [
    {
     "name": "stdout",
     "output_type": "stream",
     "text": [
      "Enter your choice number:0125\n",
      "4\n",
      "['0', '1', '2', '5'] <class 'list'>\n",
      "8\n",
      "0 <class 'int'> <class 'str'>\n",
      "5\n",
      "Number is Valid..\n"
     ]
    }
   ],
   "source": [
    "def is_increasing(num):\n",
    "    l1 = list(num)\n",
    "    tem = int(l1[0])\n",
    "    print(tem,type(tem),type(l1[0]))\n",
    "    for i in range(1,4): \n",
    "        if tem<int(l1[i]): \n",
    "            tem = int(l1[i])\n",
    "        else:\n",
    "            print(\"Invalid Number..\")\n",
    "            break\n",
    "\n",
    "    print(tem)\n",
    "    if tem == int(l1[3]):\n",
    "        print(\"Number is Valid..\")\n",
    "\n",
    "\n",
    "n = input(\"Enter your choice number:\")\n",
    "l = len(n)\n",
    "print(l)\n",
    "if l == 4:\n",
    "    num = list(n)\n",
    "    print(num,type(num))\n",
    "    sum = int(num[0])+int(num[1])+int(num[2])+int(num[3])\n",
    "    print(sum)\n",
    "    if sum == 8:\n",
    "        is_increasing(n)\n",
    "    else:\n",
    "        sum = str(sum)\n",
    "        l1 = list(sum)\n",
    "        print(l1,type(l1))\n",
    "        l = len(l1)\n",
    "        print(l)\n",
    "        add = 0\n",
    "        for i in range(0,l):\n",
    "            add = add + int(l1[i])\n",
    "        if add == 8:\n",
    "            is_increasing(n)\n",
    "        else:\n",
    "            print(\"Invalid Number..\")\n",
    "    \n",
    "else:\n",
    "    print(\"Invalid Number...\")"
   ]
  },
  {
   "cell_type": "code",
   "execution_count": 10,
   "id": "548a4f48",
   "metadata": {},
   "outputs": [
    {
     "name": "stdout",
     "output_type": "stream",
     "text": [
      "python <class 'str'>\n",
      "['p', 'y', 't', 'h', 'o', 'n'] <class 'list'>\n"
     ]
    }
   ],
   "source": [
    "s = \"python\"\n",
    "print(s,type(s))\n",
    "l1 = list(s)\n",
    "print(l1,type(l1))"
   ]
  },
  {
   "cell_type": "code",
   "execution_count": 44,
   "id": "d1e5f0ce",
   "metadata": {},
   "outputs": [
    {
     "name": "stdout",
     "output_type": "stream",
     "text": [
      "[1, 2, 3, 4] <class 'list'>\n",
      "Valid Number.\n",
      "Valid Number.\n",
      "Valid Number.\n",
      "Invalid Number.\n",
      "Invalid Number..\n",
      "Invalid Number..\n"
     ]
    }
   ],
   "source": [
    "l = [1,2,3,4]\n",
    "print(l,type(l))\n",
    "for i in range(4):\n",
    "    for j in range(1,4):\n",
    "        if l[i]<l[j]:\n",
    "            print(\"Valid Number.\")\n",
    "        elif l[i]==l[j]:\n",
    "            print(\"Invalid Number.\")\n",
    "            break\n",
    "        else:\n",
    "            print(\"Invalid Number..\")\n",
    "            break"
   ]
  },
  {
   "cell_type": "code",
   "execution_count": 13,
   "id": "a863eece",
   "metadata": {},
   "outputs": [
    {
     "ename": "TypeError",
     "evalue": "'int' object is not callable",
     "output_type": "error",
     "traceback": [
      "\u001b[1;31m---------------------------------------------------------------------------\u001b[0m",
      "\u001b[1;31mTypeError\u001b[0m                                 Traceback (most recent call last)",
      "Cell \u001b[1;32mIn[13], line 2\u001b[0m\n\u001b[0;32m      1\u001b[0m \u001b[38;5;28mstr\u001b[39m \u001b[38;5;241m=\u001b[39m \u001b[38;5;124m\"\u001b[39m\u001b[38;5;124makshay\u001b[39m\u001b[38;5;124m\"\u001b[39m\n\u001b[1;32m----> 2\u001b[0m l \u001b[38;5;241m=\u001b[39m \u001b[38;5;28mlen\u001b[39m(\u001b[38;5;28mstr\u001b[39m)\n\u001b[0;32m      3\u001b[0m l\n",
      "\u001b[1;31mTypeError\u001b[0m: 'int' object is not callable"
     ]
    }
   ],
   "source": [
    "str = \"akshay\"\n",
    "l = len(str)\n",
    "l"
   ]
  },
  {
   "cell_type": "code",
   "execution_count": 37,
   "id": "6bd7ff80",
   "metadata": {},
   "outputs": [
    {
     "name": "stdout",
     "output_type": "stream",
     "text": [
      "Enter choice number:6789\n",
      "6 <class 'int'> <class 'str'>\n",
      "9\n",
      "Number is Valid..\n"
     ]
    }
   ],
   "source": [
    "num = input(\"Enter choice number:\")\n",
    "l1 = list(num)\n",
    "tem = int(l1[0])\n",
    "print(tem,type(tem),type(l1[0]))\n",
    "for i in range(1,4): \n",
    "    if tem<int(l1[i]): \n",
    "        tem = int(l1[i])\n",
    "    else:\n",
    "        print(\"Invalid Number..\")\n",
    "        break\n",
    "\n",
    "print(tem)\n",
    "if tem == int(l1[3]):\n",
    "    print(\"Number is Valid..\")"
   ]
  },
  {
   "cell_type": "markdown",
   "id": "9796af65",
   "metadata": {},
   "source": [
    "###### "
   ]
  },
  {
   "cell_type": "code",
   "execution_count": null,
   "id": "401f071f",
   "metadata": {},
   "outputs": [],
   "source": []
  }
 ],
 "metadata": {
  "kernelspec": {
   "display_name": "Python 3 (ipykernel)",
   "language": "python",
   "name": "python3"
  },
  "language_info": {
   "codemirror_mode": {
    "name": "ipython",
    "version": 3
   },
   "file_extension": ".py",
   "mimetype": "text/x-python",
   "name": "python",
   "nbconvert_exporter": "python",
   "pygments_lexer": "ipython3",
   "version": "3.11.5"
  }
 },
 "nbformat": 4,
 "nbformat_minor": 5
}
