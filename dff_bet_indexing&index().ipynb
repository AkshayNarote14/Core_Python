{
 "cells": [
  {
   "cell_type": "code",
   "execution_count": 16,
   "id": "582a6aad",
   "metadata": {},
   "outputs": [
    {
     "name": "stdout",
     "output_type": "stream",
     "text": [
      "p\n",
      "2\n",
      "3\n",
      "1\n",
      "0\n",
      "5\n",
      "4\n",
      "4\n",
      "2\n"
     ]
    },
    {
     "ename": "NameError",
     "evalue": "name 'y' is not defined",
     "output_type": "error",
     "traceback": [
      "\u001b[1;31m---------------------------------------------------------------------------\u001b[0m",
      "\u001b[1;31mNameError\u001b[0m                                 Traceback (most recent call last)",
      "Cell \u001b[1;32mIn[16], line 13\u001b[0m\n\u001b[0;32m     11\u001b[0m \u001b[38;5;28mprint\u001b[39m(c\u001b[38;5;241m.\u001b[39mindex(\u001b[38;5;241m87\u001b[39m))\n\u001b[0;32m     12\u001b[0m \u001b[38;5;28mprint\u001b[39m(c\u001b[38;5;241m.\u001b[39mindex(\u001b[38;5;241m3\u001b[39m))\n\u001b[1;32m---> 13\u001b[0m \u001b[38;5;28mprint\u001b[39m(a\u001b[38;5;241m.\u001b[39mindex(y))\n",
      "\u001b[1;31mNameError\u001b[0m: name 'y' is not defined"
     ]
    }
   ],
   "source": [
    "a = \"python\"\n",
    "b = [1,2,3,2,\"srk\",6,4,5,\"nit\",6]\n",
    "c = (8,2,3,3,87,\"hyd\",65,\"pune\",39,2)\n",
    "print(a[0])    #-----------> This is indexing used to get value by giving index of that value\n",
    "print(b[1])\n",
    "print(c[3])\n",
    "print(b.index(2))  #-------> This is index() method used for getting index of first occurance of element in list/touple object\n",
    "print(b.index(1))\n",
    "print(b.index(6))\n",
    "print(b.index(\"srk\"))\n",
    "print(c.index(87))\n",
    "print(c.index(3))\n",
    "print(a.index(y))   #-----> It will give Error because index() method is not applicable on string datatype"
   ]
  },
  {
   "cell_type": "code",
   "execution_count": null,
   "id": "2069b645",
   "metadata": {},
   "outputs": [],
   "source": []
  },
  {
   "cell_type": "code",
   "execution_count": null,
   "id": "7ee02b11",
   "metadata": {},
   "outputs": [],
   "source": []
  }
 ],
 "metadata": {
  "kernelspec": {
   "display_name": "Python 3 (ipykernel)",
   "language": "python",
   "name": "python3"
  },
  "language_info": {
   "codemirror_mode": {
    "name": "ipython",
    "version": 3
   },
   "file_extension": ".py",
   "mimetype": "text/x-python",
   "name": "python",
   "nbconvert_exporter": "python",
   "pygments_lexer": "ipython3",
   "version": "3.11.5"
  }
 },
 "nbformat": 4,
 "nbformat_minor": 5
}
